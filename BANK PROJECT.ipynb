{
 "cells": [
  {
   "cell_type": "code",
   "execution_count": 6,
   "id": "fe11eafd",
   "metadata": {},
   "outputs": [],
   "source": [
    "ACNO={}\n",
    "Balance=0\n",
    "account_number=20003045\n",
    "def application():\n",
    "        Name=input(\"Enter your full name: \")\n",
    "        DOB=input(\"enter your dob: \")\n",
    "        Age=int(input(\"Enter your age: \"))\n",
    "        Phone_no=int(input(\"enter your phone_no: \"))\n",
    "        email_id=input(\"enter your mail id: \")\n",
    "        Address=input(\"enter your address: \")\n",
    "        Aadhar_card_no=input(\"enter your aadhar number: \")\n",
    "        Blood_group=input(\"enter your blood group: \")\n",
    "        Name_of_nominee=input(\"enter full name of nominee: \")\n",
    "        Relation_with_nominee=input(\"enter your relation with nominee: \")\n",
    "        global Balance\n",
    "        Deposit=int(input(\"enter intial deposit amount: \"))\n",
    "        Balance=0+Deposit\n",
    "        global account_number\n",
    "        account_number+=1\n",
    "        ACNO.update({\"account_number\":account_number})\n",
    "        print(\"Press (1)To open savings account\\n Press (2)To open current account\")\n",
    "        A=int(input(\"enter your choice: \"))\n",
    "        if A==1:\n",
    "            print(\"*************YOU HAVE SUCCESSFULLY OPEND SAVINGS ACCOUNT IN OUR BANK***************\")\n",
    "            print(\"DETAILS OF APPLICANT\\n\" \"\\nName: \\t\\t\\t\",Name ,\"\\nDOB: \\t\\t\\t\",DOB ,\"\\nAge: \\t\\t\\t\",Age ,\"\\nPhone no:  \\t\\t\",Phone_no ,\"\\nemail id:  \\t\\t\",email_id ,\"\\nAddress:  \\t\\t\",Address,\"\\nAadhar card no: \\t\",Aadhar_card_no ,\"\\nBlood group: \\t\\t\",Blood_group ,\"\\nName_of_nominee: \\t\",Name_of_nominee ,\"\\nRelation_with_nominee:  \",Relation_with_nominee,\"\\nDeposit: \\t\\t\",Deposit,\"\\nBalance: \\t\\t\",Balance,\"\\nYour account number:\\t\",account_number)\n",
    "            print(\"***************NOTE DOWN YOUR ACCOUNT NUMBER: ****************\",account_number)\n",
    "        elif A==2:\n",
    "            print(\"*************YOU HAVE SUCCESSFULLY OPEND SAVINGS ACCOUNT IN OUR BANK***************\")\n",
    "            print(\"DETAILS OF APPLICANT\\n\" \"\\nName: \\t\\t\\t\",Name ,\"\\nDOB: \\t\\t\\t\",DOB ,\"\\nAge: \\t\\t\\t\",Age ,\"\\nPhone no:  \\t\\t\",Phone_no ,\"\\nemail id:  \\t\\t\",email_id ,\"\\nAddress:  \\t\\t\",Address,\"\\nAadhar card no: \\t\",Aadhar_card_no ,\"\\nBlood group: \\t\\t\",Blood_group ,\"\\nName_of_nominee: \\t\",Name_of_nominee ,\"\\nRelation_with_nominee:  \",Relation_with_nominee,\"\\nDeposit: \\t\\t\",Deposit,\"\\nBalance: \\t\\t\",Balance,\"\\nYour account number: \\t\",account_number)\n",
    "            print(\"***************NOTE DOWN YOUR ACCOUNT NUMBER: ****************\",account_number)\n",
    "        else:\n",
    "            print(\"wrong choice\")"
   ]
  },
  {
   "cell_type": "code",
   "execution_count": null,
   "id": "d21fbb4e",
   "metadata": {},
   "outputs": [],
   "source": []
  },
  {
   "cell_type": "code",
   "execution_count": 7,
   "id": "e4b9fc18",
   "metadata": {},
   "outputs": [],
   "source": [
    "def deposit():\n",
    "    print(\"choose 1)To deposit cash 2) To deposit cheque\")\n",
    "    A=int(input(\"enter your choice: \"))\n",
    "    if A==1:\n",
    "        account_number=int(input(\"enter your bank account number: \"))\n",
    "        if account_number in ACNO.values():\n",
    "            global Balance\n",
    "            amount=int(input(\"enter amount of cash you want to deposit: \"))\n",
    "            Balance=Balance+amount\n",
    "            print(\"successfully deposited\",amount,\"rupees to your account\")\n",
    "            print(\"your new balance is: \",Balance,\"rupees\")\n",
    "    elif A==2:\n",
    "        account_number=int(input(\"enter your bank account number:\"))\n",
    "        if account_number in ACNO.values():\n",
    "            amount=int(input(\"enter amount of cash you want to deposit: \"))\n",
    "            cheque_number=int(input(\"enter cheque number: \"))\n",
    "            Balance=Balance+amount\n",
    "            print(\"successfully deposited\",amount,\"rupees to your account\")\n",
    "            print(\"your new balance is: \",Balance,\"rupees\")\n",
    "    else:\n",
    "        print(\"invalid choice\")\n",
    "        \n",
    "            "
   ]
  },
  {
   "cell_type": "code",
   "execution_count": null,
   "id": "ddcd85e3",
   "metadata": {},
   "outputs": [],
   "source": [
    "deposit()"
   ]
  },
  {
   "cell_type": "code",
   "execution_count": 8,
   "id": "08db9ce0",
   "metadata": {},
   "outputs": [],
   "source": [
    "def withdraw():\n",
    "    print(\" choose: 1) To withdraw ussing slip 2) To withdraw using cheque\")\n",
    "    B=int(input(\"enter your choice: \"))\n",
    "    if B==1:\n",
    "        account_number=int(input(\"enter your bank account number: \"))\n",
    "        if account_number in ACNO.values():\n",
    "            branch_name=input(\"enter branch name: \")\n",
    "            amount=int(input(\"enter amount you wish to withdraw: \"))\n",
    "            global Balance\n",
    "            if (Balance>amount):\n",
    "                Balance=Balance-amount\n",
    "                print(\"collect your cash worth rupees\",amount,\"count your money before leaving counter\")\n",
    "                print(\" Your remaining balance is\",Balance,\"rupees\")\n",
    "    elif B==2:\n",
    "        account_number=int(input(\"enter your bank account number: \"))\n",
    "        if account_number in ACNO.values():\n",
    "            cheque_number=int(input(\"enter your cheque number: \"))\n",
    "            amount=int(input(\"enter amount you wish to withdraw: \"))\n",
    "            if (Balance>amount):\n",
    "                Balance=Balance-amount\n",
    "                print(\"collect your cash worth rupees\",amount,\"count your money before leaving counter\")\n",
    "                print(\" Your remaining balance is\",Balance,\"rupees\")\n",
    "    else:\n",
    "        print(\"wrong choice\")\n",
    "        \n",
    "        \n",
    "       "
   ]
  },
  {
   "cell_type": "code",
   "execution_count": null,
   "id": "b73db2cf",
   "metadata": {},
   "outputs": [],
   "source": [
    "withdraw()"
   ]
  },
  {
   "cell_type": "code",
   "execution_count": null,
   "id": "eefa7d71",
   "metadata": {},
   "outputs": [],
   "source": []
  },
  {
   "cell_type": "code",
   "execution_count": 15,
   "id": "de820efe",
   "metadata": {},
   "outputs": [
    {
     "name": "stdout",
     "output_type": "stream",
     "text": [
      "************************************** WELCOME TO STATE BANK OF INDIA ************************************\n",
      " Press (1) To open new account in our bank\n",
      " press (2) To deposit Money \n",
      " press (3) To Withdraw Money\n",
      " press(4) TO quit \n",
      "enter your choice: 4\n"
     ]
    }
   ],
   "source": [
    "print(\"************************************** WELCOME TO STATE BANK OF INDIA ************************************\")\n",
    "print(\" Press (1) To open new account in our bank\\n press (2) To deposit Money \\n press (3) To Withdraw Money\\n press(4) TO quit \")\n",
    "z=int(input(\"enter your choice: \"))\n",
    "while z<=4:\n",
    "    \n",
    "    if z==1:\n",
    "        print(\"\\nYou choose to open account in our bank\")\n",
    "        \n",
    "        print(\"\\n*****************THANK YOU FOR BECOMING MEMBER OF SBI FAMILY************************\")\n",
    "    \n",
    "    elif z==2:\n",
    "        print(\"\\nYou choose to deposit money\")\n",
    "        deposit()\n",
    "        print(\"\\n******THANK YOU FOR DEPOSITING MONEY*******\")\n",
    "    \n",
    "    elif z==3:\n",
    "        print(\"\\nYou choose to withdraw money\")\n",
    "        withdraw()\n",
    "        print(\"\\n*****THANK YOU FOR USING OUR SERVICE*******\")\n",
    "    \n",
    "    else:\n",
    "        break\n",
    "    z=z+1\n",
    "    \n",
    "    "
   ]
  },
  {
   "cell_type": "code",
   "execution_count": null,
   "id": "7013c041",
   "metadata": {},
   "outputs": [],
   "source": []
  },
  {
   "cell_type": "code",
   "execution_count": null,
   "id": "efe04b0b",
   "metadata": {},
   "outputs": [],
   "source": []
  },
  {
   "cell_type": "code",
   "execution_count": null,
   "id": "6911ae97",
   "metadata": {},
   "outputs": [],
   "source": []
  },
  {
   "cell_type": "code",
   "execution_count": null,
   "id": "ac25a9f5",
   "metadata": {},
   "outputs": [],
   "source": []
  },
  {
   "cell_type": "code",
   "execution_count": null,
   "id": "e911f0a4",
   "metadata": {},
   "outputs": [],
   "source": []
  },
  {
   "cell_type": "code",
   "execution_count": null,
   "id": "3b6db70e",
   "metadata": {},
   "outputs": [],
   "source": []
  },
  {
   "cell_type": "code",
   "execution_count": null,
   "id": "d83dabec",
   "metadata": {},
   "outputs": [],
   "source": []
  },
  {
   "cell_type": "code",
   "execution_count": null,
   "id": "1f122cae",
   "metadata": {},
   "outputs": [],
   "source": []
  }
 ],
 "metadata": {
  "kernelspec": {
   "display_name": "Python 3 (ipykernel)",
   "language": "python",
   "name": "python3"
  },
  "language_info": {
   "codemirror_mode": {
    "name": "ipython",
    "version": 3
   },
   "file_extension": ".py",
   "mimetype": "text/x-python",
   "name": "python",
   "nbconvert_exporter": "python",
   "pygments_lexer": "ipython3",
   "version": "3.10.5"
  }
 },
 "nbformat": 4,
 "nbformat_minor": 5
}
