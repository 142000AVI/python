{
 "cells": [
  {
   "cell_type": "code",
   "execution_count": 1,
   "id": "c7546459",
   "metadata": {},
   "outputs": [
    {
     "name": "stdout",
     "output_type": "stream",
     "text": [
      "                   \"THIS IS ELECTION TO SELECT CHAIRMAN OF QUAD SUMMIT 2022\" \n",
      " QUAD:-Is an informal group of 4 nations India,Usa,Japan and Australia to counter china's intention in INDO PACIFIC REGION\n",
      " Who is voting:-Guest countries\n",
      " \n",
      " Press I to vote for India\n",
      " Press U to vote for USA\n",
      " Press A to vote for Australia\n",
      " Press J to vote for Japan\n",
      " Press N to vote for NATO\n",
      " Press E to exit\n",
      "i\n",
      " Press I to vote for India\n",
      " Press U to vote for USA\n",
      " Press A to vote for Australia\n",
      " Press J to vote for Japan\n",
      " Press N to vote for NATO\n",
      " Press E to exit\n",
      "u\n",
      " Press I to vote for India\n",
      " Press U to vote for USA\n",
      " Press A to vote for Australia\n",
      " Press J to vote for Japan\n",
      " Press N to vote for NATO\n",
      " Press E to exit\n",
      "a\n",
      " Press I to vote for India\n",
      " Press U to vote for USA\n",
      " Press A to vote for Australia\n",
      " Press J to vote for Japan\n",
      " Press N to vote for NATO\n",
      " Press E to exit\n",
      "a\n",
      " Press I to vote for India\n",
      " Press U to vote for USA\n",
      " Press A to vote for Australia\n",
      " Press J to vote for Japan\n",
      " Press N to vote for NATO\n",
      " Press E to exit\n",
      "a\n",
      " Press I to vote for India\n",
      " Press U to vote for USA\n",
      " Press A to vote for Australia\n",
      " Press J to vote for Japan\n",
      " Press N to vote for NATO\n",
      " Press E to exit\n",
      "e\n",
      "                       \"AUSTRALIA WON THE CHAIRMANSHIP OF QUAD SUMMIT 2022\"\n",
      "                        Total Number of votes recieved=3\n"
     ]
    }
   ],
   "source": [
    "print(\"                   \\\"THIS IS ELECTION TO SELECT CHAIRMAN OF QUAD SUMMIT 2022\\\" \\n QUAD:-Is an informal group of 4 nations India,Usa,Japan and Australia to counter china's intention in INDO PACIFIC REGION\\n Who is voting:-Guest countries\\n \")\n",
    "Vote='N'   #first vote to be recorded\n",
    "Votes_of_Mr_Narendra_Modi=0\n",
    "Votes_of_Mr_Joe_Biden=0\n",
    "Votes_of_Mr_Fumio_Kishida=0\n",
    "Votes_of_Mr_Anthony_Albanese=0\n",
    "Vote_to_NOTA=0\n",
    "Vote_to_exit=0\n",
    "while (Vote.upper()=='I'or Vote.upper()=='U' or Vote.upper()=='J' or Vote.upper()=='A' or Vote.upper()=='N' or Vote.upper()=='E' ):\n",
    "    Vote=input(\" Press I to vote for India\\n Press U to vote for USA\\n Press A to vote for Australia\\n Press J to vote for Japan\\n Press N to vote for NATO\\n Press E to exit\\n\")\n",
    "    if (Vote.upper()=='I'):\n",
    "        Votes_of_Mr_Narendra_Modi+=1\n",
    "    elif (Vote.upper()=='U'):\n",
    "        Votes_of_Mr_Joe_Biden+=1\n",
    "    elif (Vote.upper()=='J'):\n",
    "        Votes_of_Mr_Fumio_Kishida+=1\n",
    "    elif (Vote.upper()=='A'):\n",
    "        Votes_of_Mr_Anthony_Albanese+=1\n",
    "    elif (Vote.upper()=='N'):\n",
    "        Vote_to_NOTA+=1\n",
    "    else:\n",
    "        break\n",
    "if Votes_of_Mr_Narendra_Modi>Votes_of_Mr_Joe_Biden and Votes_of_Mr_Narendra_Modi>Votes_of_Mr_Fumio_Kishida and Votes_of_Mr_Narendra_Modi>Votes_of_Mr_Anthony_Albanese and Votes_of_Mr_Narendra_Modi>Vote_to_NOTA:\n",
    "    print(\"                       \\\"INDIA WON THE CHAIRMANSHIP OF QUAD SUMMIT 2022\\\"\\n                            Total Number of votes recieved= \"+str(Votes_of_Mr_Narendra_Modi))\n",
    "elif Votes_of_Mr_Joe_Biden>Votes_of_Mr_Narendra_Modi and Votes_of_Mr_Joe_Biden>Votes_of_Mr_Fumio_Kishida and Votes_of_Mr_Joe_Biden>Votes_of_Mr_Anthony_Albanese and Votes_of_Mr_Joe_Biden>Vote_to_NOTA:\n",
    "    print(\"                       \\\"USA WON THE CHAIRMANSHIP OF QUAD SUMMIT 2022\\\"\\n                              Total Number of votes recieved=\"+str(Votes_of_Mr_Joe_Biden))\n",
    "elif Votes_of_Mr_Fumio_Kishida>Votes_of_Mr_Narendra_Modi and Votes_of_Mr_Fumio_Kishida>Votes_of_Mr_Joe_Biden and Votes_of_Mr_Fumio_Kishida>Votes_of_Mr_Anthony_Albanese and Votes_of_Mr_Fumio_Kishida>Vote_to_NOTA:\n",
    "    print(\"                       \\\"JAPAN WON THE CHAIRMANSHIP OF QUAD SUMMIT 2022\\\"\\n                            Total Number of votes recieved=\"+str(Votes_of_Mr_Fumio_Kishida))\n",
    "elif Votes_of_Mr_Anthony_Albanese>Votes_of_Mr_Narendra_Modi and Votes_of_Mr_Anthony_Albanese>Votes_of_Mr_Joe_Biden and Votes_of_Mr_Anthony_Albanese>Votes_of_Mr_Fumio_Kishida and Votes_of_Mr_Anthony_Albanese>Vote_to_NOTA:\n",
    "    print(\"                       \\\"AUSTRALIA WON THE CHAIRMANSHIP OF QUAD SUMMIT 2022\\\"\\n                        Total Number of votes recieved=\"+str(Votes_of_Mr_Anthony_Albanese))\n",
    "elif Vote_to_NOTA>Votes_of_Mr_Narendra_Modi and Vote_to_NOTA>Votes_of_Mr_Joe_Biden and  Vote_to_NOTA>Votes_of_Mr_Fumio_Kishida and Vote_to_NOTA>Votes_of_Mr_Anthony_Albanese:\n",
    "    print(\"          \\\"MOST COUNTRIES VOTED FOR NOTA SO USA WILL CHAIR THE SUMMIT BEING THE STRONGEST ECONOMY OF WORLD\\\"\")\n",
    "else:\n",
    "    print(\"               \\\"THERE IS A TIE USA WILL CHAIR THE SUMMIT BEING THE STRONGEST ECONOMY OF THE WORLD\\\"\")\n",
    "\n",
    "    "
   ]
  },
  {
   "cell_type": "code",
   "execution_count": null,
   "id": "22262d3f",
   "metadata": {},
   "outputs": [],
   "source": []
  },
  {
   "cell_type": "code",
   "execution_count": null,
   "id": "927ae73f",
   "metadata": {},
   "outputs": [],
   "source": [
    "    "
   ]
  },
  {
   "cell_type": "code",
   "execution_count": null,
   "id": "4e74303b",
   "metadata": {},
   "outputs": [],
   "source": []
  },
  {
   "cell_type": "code",
   "execution_count": null,
   "id": "9d57f7d1",
   "metadata": {},
   "outputs": [],
   "source": []
  },
  {
   "cell_type": "code",
   "execution_count": null,
   "id": "bc71a1c6",
   "metadata": {},
   "outputs": [],
   "source": []
  },
  {
   "cell_type": "code",
   "execution_count": null,
   "id": "84417061",
   "metadata": {},
   "outputs": [],
   "source": []
  },
  {
   "cell_type": "code",
   "execution_count": null,
   "id": "230a32a1",
   "metadata": {},
   "outputs": [],
   "source": []
  },
  {
   "cell_type": "code",
   "execution_count": null,
   "id": "7ce93c44",
   "metadata": {},
   "outputs": [],
   "source": []
  }
 ],
 "metadata": {
  "kernelspec": {
   "display_name": "Python 3 (ipykernel)",
   "language": "python",
   "name": "python3"
  },
  "language_info": {
   "codemirror_mode": {
    "name": "ipython",
    "version": 3
   },
   "file_extension": ".py",
   "mimetype": "text/x-python",
   "name": "python",
   "nbconvert_exporter": "python",
   "pygments_lexer": "ipython3",
   "version": "3.10.5"
  }
 },
 "nbformat": 4,
 "nbformat_minor": 5
}
